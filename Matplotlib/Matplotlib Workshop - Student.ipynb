{
 "cells": [
  {
   "cell_type": "markdown",
   "metadata": {},
   "source": [
    "# Matplotlib Workshop: Python plotting library"
   ]
  },
  {
   "cell_type": "markdown",
   "metadata": {},
   "source": [
    "Please sign if you have already not done so and please ask a DSI member if you are having trouble with installing python, matplotlib, pandas, numpy, or downloading the workshop."
   ]
  },
  {
   "cell_type": "markdown",
   "metadata": {},
   "source": [
    "The workshop can be downloaded at the link: **https://github.com/dsiufl/Visualization**"
   ]
  },
  {
   "cell_type": "markdown",
   "metadata": {},
   "source": [
    "## About DSI: "
   ]
  },
  {
   "cell_type": "markdown",
   "metadata": {},
   "source": [
    "We are an multi- and inter-disciplinary student organization that is dediated to promoting Data Science at the Univeristy of Florida. We are partnered with the UF Informatics Institute who's aim is to foster informatics research and education.  To learn more about DSI, please visit us on:\n",
    "* **[Facebook](https://www.facebook.com/groups/DataSciUF/)**\n",
    "* **[LinkedIn](https://www.linkedin.com/company/dsiufl/)**\n",
    "* **[Github](https://github.com/dsiufl)**"
   ]
  },
  {
   "cell_type": "markdown",
   "metadata": {},
   "source": [
    "## What is matplotlib?"
   ]
  },
  {
   "cell_type": "markdown",
   "metadata": {},
   "source": [
    "Matplotlib is a python visualization library that is designed to be similiar to MATLAB sytnax and use numpy/pandas to create amazing 2D plots.  Visualizations are importants because they can allow you to identify trends, correlation, and patterns in the beginning stages of data exploration.  Additionally, they are a great way to present any knowledge you have uncovered once you have performed your data analysis. "
   ]
  },
  {
   "cell_type": "markdown",
   "metadata": {},
   "source": [
    "## Matplotlib coding examples:"
   ]
  },
  {
   "cell_type": "markdown",
   "metadata": {},
   "source": [
    ">First we need to import the necessary libraries:"
   ]
  },
  {
   "cell_type": "code",
   "execution_count": null,
   "metadata": {},
   "outputs": [],
   "source": []
  },
  {
   "cell_type": "markdown",
   "metadata": {},
   "source": [
    ">Import our data:"
   ]
  },
  {
   "cell_type": "code",
   "execution_count": null,
   "metadata": {},
   "outputs": [],
   "source": []
  },
  {
   "cell_type": "markdown",
   "metadata": {},
   "source": [
    ">Now that we have imported out data, let's start making some plots!"
   ]
  },
  {
   "cell_type": "markdown",
   "metadata": {},
   "source": [
    "### Box Plots:"
   ]
  },
  {
   "cell_type": "markdown",
   "metadata": {},
   "source": [
    ">If we want to compare how an attribute differs between categories, a box plot is a good place to start.  It allows us to easily see any differences between the categories and see the summary statistics (variance, mean) of the attribute for each category.\n",
    "\n",
    ">For example, say we want to compare the HP between water and fire types, a box plot would be a great visualization. "
   ]
  },
  {
   "cell_type": "code",
   "execution_count": null,
   "metadata": {},
   "outputs": [],
   "source": []
  },
  {
   "cell_type": "code",
   "execution_count": null,
   "metadata": {},
   "outputs": [],
   "source": []
  },
  {
   "cell_type": "markdown",
   "metadata": {},
   "source": [
    ">This is a basic box plot comparing water and fire type HPs', but what if you want to compare all types and make it more visually appealing?  Luckily, matplotlib has lots of options to change the appearance of the plot.  Below shows a more robust solution."
   ]
  },
  {
   "cell_type": "code",
   "execution_count": null,
   "metadata": {},
   "outputs": [],
   "source": []
  },
  {
   "cell_type": "code",
   "execution_count": null,
   "metadata": {},
   "outputs": [],
   "source": []
  },
  {
   "cell_type": "code",
   "execution_count": null,
   "metadata": {
    "scrolled": false
   },
   "outputs": [],
   "source": []
  },
  {
   "cell_type": "markdown",
   "metadata": {},
   "source": [
    ">As you can see you can heavily customize matplotlib plots.  If you want to change something about your graph, most likely with some additional coding, you can make it appear exactly as you please. If you are making the graphs for yourself to perform exploratory data analysis, you probably don\\'t need to do this much customization.  However, if you are making this to present to other, you may consider making it more appealing.\n",
    "\n",
    ">If you want to save this plot to put in a powerpoint or slide deck, you can right click and save the image.\n",
    "\n",
    ">For additional documentation on:\n",
    "* **Matplotlib\\'s boxplot** click [here](https://matplotlib.org/api/_as_gen/matplotlib.pyplot.boxplot.html)\n",
    "* **Pandas loc function** click [here](https://pandas.pydata.org/pandas-docs/stable/reference/api/pandas.DataFrame.loc.html) \n",
    "* **Matplotlib colormaps** click [here](https://matplotlib.org/3.1.0/tutorials/colors/colormaps.html)"
   ]
  },
  {
   "cell_type": "markdown",
   "metadata": {},
   "source": [
    "### Scatter Plots"
   ]
  },
  {
   "cell_type": "markdown",
   "metadata": {},
   "source": [
    ">If we want to see the correlation between two different variables, scatter plots are a good way to visualize their relationship.  \n",
    "\n",
    ">For example, if you want to see if there is a relationship between a pokemon\\'s special attack and speed, a scatter plot would be a great visualization."
   ]
  },
  {
   "cell_type": "code",
   "execution_count": null,
   "metadata": {},
   "outputs": [],
   "source": []
  },
  {
   "cell_type": "markdown",
   "metadata": {},
   "source": [
    ">As you can see there is some positive correlation between a pokemon's speed and special attack.  But, what if you want to color the points based on type to see if some types have different trends?"
   ]
  },
  {
   "cell_type": "code",
   "execution_count": null,
   "metadata": {},
   "outputs": [],
   "source": []
  },
  {
   "cell_type": "markdown",
   "metadata": {},
   "source": [
    ">As you can see, there does not seem any clustering of a color on the graph, so no assertions can be made about pokemon type in relation to speed vs. special attack.\n",
    "\n",
    ">For additional documentation on:\n",
    "* **Matplotlib scatter plots** click [here](https://matplotlib.org/api/_as_gen/matplotlib.pyplot.scatter.html)"
   ]
  },
  {
   "cell_type": "markdown",
   "metadata": {},
   "source": [
    "### Line Plot"
   ]
  },
  {
   "cell_type": "markdown",
   "metadata": {},
   "source": [
    ">If you want to draw the line of best fit onto your scatter plot or graph a function.  Line plots are the best option to use."
   ]
  },
  {
   "cell_type": "markdown",
   "metadata": {},
   "source": [
    "**The following code is about getting the line of best fit for speed vs special attack for all pokemon.  If you want to learn more about sklearn\\'s linear regression click [here](https://scikit-learn.org/stable/modules/generated/sklearn.linear_model.LinearRegression.html).**"
   ]
  },
  {
   "cell_type": "code",
   "execution_count": 1,
   "metadata": {},
   "outputs": [],
   "source": [
    "from sklearn.linear_model import LinearRegression"
   ]
  },
  {
   "cell_type": "code",
   "execution_count": null,
   "metadata": {},
   "outputs": [],
   "source": []
  },
  {
   "cell_type": "markdown",
   "metadata": {},
   "source": [
    ">Now that we have the slope and intercept for our line of best fit, we can now graph it and see the trend of the data.\n",
    "\n",
    ">np.linspace(a,b,n) gets n equally spaced points from a to b.  It is really useful for plotting functions becuase it can get a large collection of points so it looks like the space between the points are interpolated. More documentation on **np.linspace** is [here](https://docs.scipy.org/doc/numpy/reference/generated/numpy.linspace.html)."
   ]
  },
  {
   "cell_type": "code",
   "execution_count": null,
   "metadata": {},
   "outputs": [],
   "source": []
  },
  {
   "cell_type": "code",
   "execution_count": null,
   "metadata": {},
   "outputs": [],
   "source": []
  },
  {
   "cell_type": "markdown",
   "metadata": {},
   "source": [
    "> You can also have multiple lines on the same graph.  This time we will plot this line of best fit for each pokemon type and see if there is any noticable differences."
   ]
  },
  {
   "cell_type": "code",
   "execution_count": null,
   "metadata": {},
   "outputs": [],
   "source": []
  },
  {
   "cell_type": "code",
   "execution_count": null,
   "metadata": {},
   "outputs": [],
   "source": []
  },
  {
   "cell_type": "markdown",
   "metadata": {},
   "source": [
    ">As you can see, depending on the pokemon type, the relation between a pokemon\\'s speed and special attack changes.   \n",
    "\n",
    ">For additional documentation on:\n",
    "* **Matplotlib line plots** click [here](https://matplotlib.org/api/_as_gen/matplotlib.pyplot.plot.html#matplotlib.pyplot.plot)"
   ]
  },
  {
   "cell_type": "markdown",
   "metadata": {},
   "source": [
    "### Bar Plots"
   ]
  },
  {
   "cell_type": "markdown",
   "metadata": {},
   "source": [
    ">Now if we wanted to see the distributon of a variable or if you wanted to compare the frequency of a attribute between categories, then a bar plot is used.\n",
    "\n",
    ">Lets plot the distribution of types:"
   ]
  },
  {
   "cell_type": "code",
   "execution_count": null,
   "metadata": {},
   "outputs": [],
   "source": []
  },
  {
   "cell_type": "code",
   "execution_count": null,
   "metadata": {
    "scrolled": false
   },
   "outputs": [],
   "source": []
  },
  {
   "cell_type": "markdown",
   "metadata": {},
   "source": [
    ">What if you wanted to compare the frequnecy of a specific type based on if that type was its primary or secondary type?"
   ]
  },
  {
   "cell_type": "code",
   "execution_count": null,
   "metadata": {},
   "outputs": [],
   "source": []
  },
  {
   "cell_type": "code",
   "execution_count": null,
   "metadata": {},
   "outputs": [],
   "source": []
  },
  {
   "cell_type": "code",
   "execution_count": null,
   "metadata": {
    "scrolled": false
   },
   "outputs": [],
   "source": []
  },
  {
   "cell_type": "markdown",
   "metadata": {},
   "source": [
    "For additional documentation on:\n",
    "* **Matplotlib bar plots** click [here](https://matplotlib.org/api/_as_gen/matplotlib.pyplot.bar.html)"
   ]
  },
  {
   "cell_type": "markdown",
   "metadata": {},
   "source": [
    "### Subplots"
   ]
  },
  {
   "cell_type": "markdown",
   "metadata": {},
   "source": [
    ">If you want multiple plots in the same figure, you can use the subplots feature in matplotlib.  You can mix and match the different types of graphs and customize each plot indiviually like before."
   ]
  },
  {
   "cell_type": "code",
   "execution_count": null,
   "metadata": {
    "scrolled": false
   },
   "outputs": [],
   "source": []
  },
  {
   "cell_type": "markdown",
   "metadata": {},
   "source": [
    ">For more documentation on subplots:\n",
    "* **Matplotlib subplots** click [here](https://matplotlib.org/api/_as_gen/matplotlib.pyplot.subplots.html)"
   ]
  },
  {
   "cell_type": "markdown",
   "metadata": {},
   "source": [
    "## Concluding remarks:"
   ]
  },
  {
   "cell_type": "markdown",
   "metadata": {},
   "source": [
    "Today I showed you some of the basics features and plots of matplotlib.  Matplotlib is an extensive library with lots of functionality and lots of documentation.  If you want to try to plot something a specific way, then you can google it and probably find a solution online.  The official matplotlib website is [here](https://matplotlib.org/api/pyplot_summary.html).  I hope you enjoyed this DSI workshop and look forward to see everyone at future DSI events! "
   ]
  }
 ],
 "metadata": {
  "hide_input": false,
  "kernelspec": {
   "display_name": "Python 3",
   "language": "python",
   "name": "python3"
  },
  "language_info": {
   "codemirror_mode": {
    "name": "ipython",
    "version": 3
   },
   "file_extension": ".py",
   "mimetype": "text/x-python",
   "name": "python",
   "nbconvert_exporter": "python",
   "pygments_lexer": "ipython3",
   "version": "3.7.3"
  }
 },
 "nbformat": 4,
 "nbformat_minor": 2
}
